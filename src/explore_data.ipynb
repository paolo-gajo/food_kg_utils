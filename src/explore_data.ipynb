{
 "cells": [
  {
   "cell_type": "code",
   "execution_count": 14,
   "id": "9bf3615f",
   "metadata": {},
   "outputs": [
    {
     "name": "stdout",
     "output_type": "stream",
     "text": [
      "{'UNK': np.int64(6936), 'Campania': np.int64(97), 'Sicilia': np.int64(83), 'Lombardia': np.int64(56), 'Toscana': np.int64(47), 'Puglia': np.int64(36), 'Lazio': np.int64(35), 'Emilia-Romagna': np.int64(33), 'Piemonte': np.int64(30), 'Liguria': np.int64(25), 'Veneto': np.int64(22), 'Sardegna': np.int64(21), 'Calabria': np.int64(19), 'Umbria': np.int64(17), 'Abruzzo': np.int64(11), 'Marche': np.int64(10), 'Molise': np.int64(4), 'Basilicata': np.int64(3)}\n",
      "7485\n",
      "{'Campania': np.int64(97), 'Sicilia': np.int64(83), 'Lombardia': np.int64(56), 'Toscana': np.int64(47), 'Puglia': np.int64(36), 'Lazio': np.int64(35), 'Emilia-Romagna': np.int64(33), 'Piemonte': np.int64(30), 'Liguria': np.int64(25), 'Veneto': np.int64(22), 'Sardegna': np.int64(21), 'Calabria': np.int64(19), 'Umbria': np.int64(17), 'Abruzzo': np.int64(11), 'Marche': np.int64(10), 'Molise': np.int64(4), 'Basilicata': np.int64(3)}\n",
      "549\n"
     ]
    }
   ],
   "source": [
    "import pandas as pd\n",
    "import json\n",
    "\n",
    "df = pd.read_json('/home/pg/working/food_kg_utils/data/gz_dataset.json')\n",
    "# print(df['country'].value_counts())\n",
    "region_dict = dict(df['region_gold'].value_counts())\n",
    "\n",
    "json_path = '/home/pg/working/food_kg_utils/misc/coords_list.json'\n",
    "\n",
    "with open(json_path, 'r', encoding='utf8') as f:\n",
    "    regions = json.load(f)\n",
    "\n",
    "region_names = [el['region'] for el in regions]\n",
    "\n",
    "gold_dict = {}\n",
    "for key, value in region_dict.items():\n",
    "    if key in region_names:\n",
    "        gold_dict[key] = value\n",
    "print(gold_dict)\n",
    "print(sum(gold_dict.values()))\n",
    "gold_dict.pop('UNK')\n",
    "print(gold_dict)\n",
    "print(sum(gold_dict.values()))"
   ]
  },
  {
   "cell_type": "code",
   "execution_count": 15,
   "id": "6617e00d",
   "metadata": {},
   "outputs": [
    {
     "data": {
      "text/plain": [
       "0.07334669338677355"
      ]
     },
     "execution_count": 15,
     "metadata": {},
     "output_type": "execute_result"
    }
   ],
   "source": [
    "# gold from gz annotations\n",
    "549 / 7485"
   ]
  },
  {
   "cell_type": "code",
   "execution_count": null,
   "id": "46e6809a",
   "metadata": {},
   "outputs": [
    {
     "data": {
      "text/plain": [
       "0.08848468271334792"
      ]
     },
     "execution_count": 13,
     "metadata": {},
     "output_type": "execute_result"
    }
   ],
   "source": [
    "# gold + llm silver\n",
    "647 / 7312"
   ]
  },
  {
   "cell_type": "code",
   "execution_count": 1,
   "id": "a3a16fb6",
   "metadata": {},
   "outputs": [
    {
     "data": {
      "text/plain": [
       "1596"
      ]
     },
     "execution_count": 1,
     "metadata": {},
     "output_type": "execute_result"
    }
   ],
   "source": [
    "160+64+81+116+73+14+87+34+107+100+57+159+158+24+40+22+65+92+65+78"
   ]
  }
 ],
 "metadata": {
  "kernelspec": {
   "display_name": ".env",
   "language": "python",
   "name": "python3"
  },
  "language_info": {
   "codemirror_mode": {
    "name": "ipython",
    "version": 3
   },
   "file_extension": ".py",
   "mimetype": "text/x-python",
   "name": "python",
   "nbconvert_exporter": "python",
   "pygments_lexer": "ipython3",
   "version": "3.11.12"
  }
 },
 "nbformat": 4,
 "nbformat_minor": 5
}
