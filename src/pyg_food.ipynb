{
 "cells": [
  {
   "cell_type": "code",
   "execution_count": 1,
   "id": "33550601",
   "metadata": {},
   "outputs": [
    {
     "data": {
      "text/plain": [
       "torch.Size([2, 27387])"
      ]
     },
     "execution_count": 1,
     "metadata": {},
     "output_type": "execute_result"
    }
   ],
   "source": [
    "import json\n",
    "import torch\n",
    "\n",
    "json_path = '../data/gz_all_id_clean_targets.json'\n",
    "\n",
    "with open(json_path, 'r', encoding='utf8') as f:\n",
    "    data = json.load(f)\n",
    "\n",
    "edge_index = [[], []]\n",
    "\n",
    "for line in data:\n",
    "    src = [line['index']] * len(line['dest'])\n",
    "    edge_index[0] += src\n",
    "    edge_index[1] += line['dest']\n",
    "edge_index = torch.Tensor(edge_index).to(torch.long)\n",
    "edge_index.shape"
   ]
  }
 ],
 "metadata": {
  "kernelspec": {
   "display_name": ".env",
   "language": "python",
   "name": "python3"
  },
  "language_info": {
   "codemirror_mode": {
    "name": "ipython",
    "version": 3
   },
   "file_extension": ".py",
   "mimetype": "text/x-python",
   "name": "python",
   "nbconvert_exporter": "python",
   "pygments_lexer": "ipython3",
   "version": "3.11.12"
  }
 },
 "nbformat": 4,
 "nbformat_minor": 5
}
